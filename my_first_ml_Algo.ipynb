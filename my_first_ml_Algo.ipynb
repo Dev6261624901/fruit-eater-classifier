{
 "cells": [
  {
   "cell_type": "code",
   "execution_count": 8,
   "id": "bb7f414e-e9a8-4bb8-9513-baa17c68a970",
   "metadata": {},
   "outputs": [
    {
     "name": "stdout",
     "output_type": "stream",
     "text": [
      "Predictions for new data: [[1, 0]]\n"
     ]
    }
   ],
   "source": [
    "import pandas as pd\n",
    "from sklearn.tree import DecisionTreeClassifier\n",
    "df = pd.read_csv(\"fruit_data.csv\")\n",
    "\n",
    "x = df[[\"age\",\"is_hungry\",\"is_fruit_available\"]]\n",
    "y = df[[\"will_eat\"]]\n",
    "\n",
    "model = DecisionTreeClassifier()\n",
    "model.fit(x,y)\n",
    "new_data = pd.DataFrame([[28, 1, 1], [20, 0, 1]], columns=[\"age\", \"is_hungry\", \"is_fruit_available\"])\n",
    "prediction = model.predict(new_data)\n",
    "print(f\"Predictions for new data: {[prediction.tolist()]}\")"
   ]
  },
  {
   "cell_type": "code",
   "execution_count": null,
   "id": "2292664a-b8a9-4655-a40a-878db4bb6296",
   "metadata": {},
   "outputs": [],
   "source": []
  }
 ],
 "metadata": {
  "kernelspec": {
   "display_name": "Python 3 (ipykernel)",
   "language": "python",
   "name": "python3"
  },
  "language_info": {
   "codemirror_mode": {
    "name": "ipython",
    "version": 3
   },
   "file_extension": ".py",
   "mimetype": "text/x-python",
   "name": "python",
   "nbconvert_exporter": "python",
   "pygments_lexer": "ipython3",
   "version": "3.12.7"
  }
 },
 "nbformat": 4,
 "nbformat_minor": 5
}
